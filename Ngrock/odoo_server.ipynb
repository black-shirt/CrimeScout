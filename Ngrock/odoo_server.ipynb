{
 "cells": [
  {
   "cell_type": "code",
   "execution_count": null,
   "id": "19c14af6",
   "metadata": {},
   "outputs": [
    {
     "name": "stdout",
     "output_type": "stream",
     "text": [
      " * Serving Flask app \"__main__\" (lazy loading)\n",
      " * Environment: production\n",
      "\u001b[31m   WARNING: This is a development server. Do not use it in a production deployment.\u001b[0m\n",
      "\u001b[2m   Use a production WSGI server instead.\u001b[0m\n",
      " * Debug mode: off\n"
     ]
    },
    {
     "name": "stderr",
     "output_type": "stream",
     "text": [
      " * Running on http://127.0.0.1:5000/ (Press CTRL+C to quit)\n"
     ]
    },
    {
     "name": "stdout",
     "output_type": "stream",
     "text": [
      " * Running on http://677b-2402-a00-405-9ebe-8fc-172c-ae84-798a.ngrok-free.app\n",
      " * Traffic stats available on http://127.0.0.1:4040\n"
     ]
    },
    {
     "name": "stderr",
     "output_type": "stream",
     "text": [
      "127.0.0.1 - - [29/Jun/2024 17:38:27] \"POST /predictCrime HTTP/1.1\" 200 -\n"
     ]
    }
   ],
   "source": [
    "from flask import request, jsonify, Flask\n",
    "from flask_cors import CORS\n",
    "from flask_ngrok import run_with_ngrok\n",
    "import torch\n",
    "\n",
    "app = Flask(__name__)\n",
    "run_with_ngrok(app)\n",
    "CORS(app, resources={r\"/api/*\": {\"origins\": \"*\"}})\n",
    "\n",
    "# Load the model\n",
    "model = torch.load(r\"C:\\Users\\Vansh\\Desktop\\projects\\Odoo\\crime.pth\")\n",
    "model.eval()\n",
    "\n",
    "@app.route(\"/predictCrime\", methods=[\"POST\"])\n",
    "def predictCrime():\n",
    "    try:\n",
    "        input_array = request.get_json().get(\"input_array\")\n",
    "        if input_array is None:\n",
    "            return jsonify({\"error\": \"No input_array provided\"}), 400\n",
    "\n",
    "        tensor_array = torch.tensor(input_array)\n",
    "        output = model(tensor_array)\n",
    "        output_np = output.detach().numpy()\n",
    "        return jsonify({\"output\": int(output_np*100)})\n",
    "    except Exception as e:\n",
    "        return jsonify({\"error\": str(e)}), 500\n",
    "\n",
    "if __name__ == \"__main__\":\n",
    "    app.run()\n"
   ]
  },
  {
   "cell_type": "code",
   "execution_count": null,
   "id": "8e3da856",
   "metadata": {},
   "outputs": [],
   "source": []
  }
 ],
 "metadata": {
  "kernelspec": {
   "display_name": "Python 3 (ipykernel)",
   "language": "python",
   "name": "python3"
  },
  "language_info": {
   "codemirror_mode": {
    "name": "ipython",
    "version": 3
   },
   "file_extension": ".py",
   "mimetype": "text/x-python",
   "name": "python",
   "nbconvert_exporter": "python",
   "pygments_lexer": "ipython3",
   "version": "3.9.7"
  }
 },
 "nbformat": 4,
 "nbformat_minor": 5
}
