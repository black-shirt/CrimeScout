{
 "cells": [
  {
   "cell_type": "code",
   "execution_count": 4,
   "id": "d6806d00",
   "metadata": {},
   "outputs": [],
   "source": [
    "import torch\n",
    "\n",
    "mod = torch.load(r\"C:\\Users\\Vansh\\Desktop\\projects\\Odoo\\crime.pth\")\n",
    "ut1 = [ 0.0000e+00,  0.0000e+00,  0.0000e+00,  0.0000e+00,  0.0000e+00,\n",
    "         0.0000e+00,  0.0000e+00,  0.0000e+00,  0.0000e+00,  0.0000e+00,\n",
    "         0.0000e+00,  0.0000e+00,  0.0000e+00,  0.0000e+00,  0.0000e+00,\n",
    "         0.0000e+00,  0.0000e+00,  0.0000e+00,  0.0000e+00,  0.0000e+00,\n",
    "         0.0000e+00,  0.0000e+00,  0.0000e+00,  0.0000e+00,  0.0000e+00,\n",
    "         0.0000e+00,  0.0000e+00,  0.0000e+00,  0.0000e+00,  1.0000e+00,\n",
    "         0.0000e+00,  0.0000e+00,  0.0000e+00,  0.0000e+00,  0.0000e+00,\n",
    "         2.0110e+03,  1.4000e+01, -7.1058e-01, -3.8292e-01, -8.0436e-01,\n",
    "        -1.6590e-01, -8.0433e-01, -7.0312e-01, -6.5355e-01, -6.4899e-01,\n",
    "        -6.2637e-01, -4.5253e-01, -7.1640e-01, -7.8500e-01, -8.0109e-01,\n",
    "        -7.2508e-01, -7.7176e-01, -6.9952e-01, -6.5634e-01, -6.1825e-01,\n",
    "        -6.2562e-01, -7.8689e-01, -6.8792e-01, -5.4822e-01, -7.2170e-01,\n",
    "        -4.2047e-01, -6.4762e-01, -2.4231e-01, -6.3554e-01, -8.0879e-01]\n",
    "\n",
    "# Convert ut1 to LongTensor\n",
    "\n",
    "ut2 = torch.tensor(ut1)\n",
    "\n",
    "# Assuming the last layer is the output layer\n",
    "output = mod(ut2)"
   ]
  },
  {
   "cell_type": "code",
   "execution_count": 5,
   "id": "d224c314",
   "metadata": {},
   "outputs": [
    {
     "data": {
      "text/plain": [
       "array([13.714236], dtype=float32)"
      ]
     },
     "execution_count": 5,
     "metadata": {},
     "output_type": "execute_result"
    }
   ],
   "source": [
    "output.detach().numpy()"
   ]
  },
  {
   "cell_type": "code",
   "execution_count": null,
   "id": "3bcb9639",
   "metadata": {},
   "outputs": [],
   "source": []
  }
 ],
 "metadata": {
  "kernelspec": {
   "display_name": "Python 3 (ipykernel)",
   "language": "python",
   "name": "python3"
  },
  "language_info": {
   "codemirror_mode": {
    "name": "ipython",
    "version": 3
   },
   "file_extension": ".py",
   "mimetype": "text/x-python",
   "name": "python",
   "nbconvert_exporter": "python",
   "pygments_lexer": "ipython3",
   "version": "3.9.7"
  }
 },
 "nbformat": 4,
 "nbformat_minor": 5
}
